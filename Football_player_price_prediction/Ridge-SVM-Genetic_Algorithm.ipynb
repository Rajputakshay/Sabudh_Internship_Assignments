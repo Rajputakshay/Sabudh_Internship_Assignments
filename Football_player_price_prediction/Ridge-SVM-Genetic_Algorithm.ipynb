{
 "cells": [
  {
   "cell_type": "code",
   "execution_count": 15,
   "metadata": {},
   "outputs": [],
   "source": [
    "# Importing Required Libraries\n",
    "import numpy as np\n",
    "import copy\n",
    "import matplotlib.pyplot as plt\n",
    "from sklearn.preprocessing import MinMaxScaler\n",
    "from sklearn.model_selection import train_test_split\n",
    "from sklearn.linear_model import Ridge\n",
    "from sklearn.svm import SVR\n",
    "from sklearn.model_selection import KFold, cross_val_score\n",
    "from sklearn.metrics import r2_score\n",
    "from sklearn.metrics import mean_squared_error\n",
    "import seaborn as sns\n",
    "from sklearn.neighbors import KNeighborsRegressor\n",
    "import warnings\n",
    "import pandas as pd\n",
    "%matplotlib inline\n",
    "warnings.filterwarnings('ignore')"
   ]
  },
  {
   "cell_type": "code",
   "execution_count": 16,
   "metadata": {},
   "outputs": [],
   "source": [
    "# Reading the dataframe using pandas\n",
    "data = pd.read_csv('Football.csv')"
   ]
  },
  {
   "cell_type": "markdown",
   "metadata": {},
   "source": [
    "### Data Preprocessing"
   ]
  },
  {
   "cell_type": "code",
   "execution_count": 17,
   "metadata": {},
   "outputs": [],
   "source": [
    "# Imputing the missing value of region record as the most common value\n",
    "data['region'] = data['region'].fillna(2.)"
   ]
  },
  {
   "cell_type": "code",
   "execution_count": 18,
   "metadata": {},
   "outputs": [
    {
     "data": {
      "text/html": [
       "<div>\n",
       "<style scoped>\n",
       "    .dataframe tbody tr th:only-of-type {\n",
       "        vertical-align: middle;\n",
       "    }\n",
       "\n",
       "    .dataframe tbody tr th {\n",
       "        vertical-align: top;\n",
       "    }\n",
       "\n",
       "    .dataframe thead th {\n",
       "        text-align: right;\n",
       "    }\n",
       "</style>\n",
       "<table border=\"1\" class=\"dataframe\">\n",
       "  <thead>\n",
       "    <tr style=\"text-align: right;\">\n",
       "      <th></th>\n",
       "      <th>name</th>\n",
       "      <th>club</th>\n",
       "      <th>age</th>\n",
       "      <th>position</th>\n",
       "      <th>position_cat</th>\n",
       "      <th>market_value</th>\n",
       "      <th>page_views</th>\n",
       "      <th>fpl_value</th>\n",
       "      <th>fpl_sel</th>\n",
       "      <th>fpl_points</th>\n",
       "      <th>region</th>\n",
       "      <th>nationality</th>\n",
       "      <th>new_foreign</th>\n",
       "      <th>age_cat</th>\n",
       "      <th>club_id</th>\n",
       "      <th>big_club</th>\n",
       "      <th>new_signing</th>\n",
       "    </tr>\n",
       "  </thead>\n",
       "  <tbody>\n",
       "    <tr>\n",
       "      <th>0</th>\n",
       "      <td>Alexis Sanchez</td>\n",
       "      <td>Arsenal</td>\n",
       "      <td>28</td>\n",
       "      <td>LW</td>\n",
       "      <td>1</td>\n",
       "      <td>65.0</td>\n",
       "      <td>4329</td>\n",
       "      <td>12.0</td>\n",
       "      <td>17.10%</td>\n",
       "      <td>264</td>\n",
       "      <td>3.0</td>\n",
       "      <td>Chile</td>\n",
       "      <td>0</td>\n",
       "      <td>4</td>\n",
       "      <td>1</td>\n",
       "      <td>1</td>\n",
       "      <td>0</td>\n",
       "    </tr>\n",
       "    <tr>\n",
       "      <th>1</th>\n",
       "      <td>Mesut Ozil</td>\n",
       "      <td>Arsenal</td>\n",
       "      <td>28</td>\n",
       "      <td>AM</td>\n",
       "      <td>1</td>\n",
       "      <td>50.0</td>\n",
       "      <td>4395</td>\n",
       "      <td>9.5</td>\n",
       "      <td>5.60%</td>\n",
       "      <td>167</td>\n",
       "      <td>2.0</td>\n",
       "      <td>Germany</td>\n",
       "      <td>0</td>\n",
       "      <td>4</td>\n",
       "      <td>1</td>\n",
       "      <td>1</td>\n",
       "      <td>0</td>\n",
       "    </tr>\n",
       "    <tr>\n",
       "      <th>2</th>\n",
       "      <td>Petr Cech</td>\n",
       "      <td>Arsenal</td>\n",
       "      <td>35</td>\n",
       "      <td>GK</td>\n",
       "      <td>4</td>\n",
       "      <td>7.0</td>\n",
       "      <td>1529</td>\n",
       "      <td>5.5</td>\n",
       "      <td>5.90%</td>\n",
       "      <td>134</td>\n",
       "      <td>2.0</td>\n",
       "      <td>Czech Republic</td>\n",
       "      <td>0</td>\n",
       "      <td>6</td>\n",
       "      <td>1</td>\n",
       "      <td>1</td>\n",
       "      <td>0</td>\n",
       "    </tr>\n",
       "    <tr>\n",
       "      <th>3</th>\n",
       "      <td>Theo Walcott</td>\n",
       "      <td>Arsenal</td>\n",
       "      <td>28</td>\n",
       "      <td>RW</td>\n",
       "      <td>1</td>\n",
       "      <td>20.0</td>\n",
       "      <td>2393</td>\n",
       "      <td>7.5</td>\n",
       "      <td>1.50%</td>\n",
       "      <td>122</td>\n",
       "      <td>1.0</td>\n",
       "      <td>England</td>\n",
       "      <td>0</td>\n",
       "      <td>4</td>\n",
       "      <td>1</td>\n",
       "      <td>1</td>\n",
       "      <td>0</td>\n",
       "    </tr>\n",
       "    <tr>\n",
       "      <th>4</th>\n",
       "      <td>Laurent Koscielny</td>\n",
       "      <td>Arsenal</td>\n",
       "      <td>31</td>\n",
       "      <td>CB</td>\n",
       "      <td>3</td>\n",
       "      <td>22.0</td>\n",
       "      <td>912</td>\n",
       "      <td>6.0</td>\n",
       "      <td>0.70%</td>\n",
       "      <td>121</td>\n",
       "      <td>2.0</td>\n",
       "      <td>France</td>\n",
       "      <td>0</td>\n",
       "      <td>4</td>\n",
       "      <td>1</td>\n",
       "      <td>1</td>\n",
       "      <td>0</td>\n",
       "    </tr>\n",
       "  </tbody>\n",
       "</table>\n",
       "</div>"
      ],
      "text/plain": [
       "                name     club  age position  position_cat  market_value  \\\n",
       "0     Alexis Sanchez  Arsenal   28       LW             1          65.0   \n",
       "1         Mesut Ozil  Arsenal   28       AM             1          50.0   \n",
       "2          Petr Cech  Arsenal   35       GK             4           7.0   \n",
       "3       Theo Walcott  Arsenal   28       RW             1          20.0   \n",
       "4  Laurent Koscielny  Arsenal   31       CB             3          22.0   \n",
       "\n",
       "   page_views  fpl_value fpl_sel  fpl_points  region     nationality  \\\n",
       "0        4329       12.0  17.10%         264     3.0           Chile   \n",
       "1        4395        9.5   5.60%         167     2.0         Germany   \n",
       "2        1529        5.5   5.90%         134     2.0  Czech Republic   \n",
       "3        2393        7.5   1.50%         122     1.0         England   \n",
       "4         912        6.0   0.70%         121     2.0          France   \n",
       "\n",
       "   new_foreign  age_cat  club_id  big_club  new_signing  \n",
       "0            0        4        1         1            0  \n",
       "1            0        4        1         1            0  \n",
       "2            0        6        1         1            0  \n",
       "3            0        4        1         1            0  \n",
       "4            0        4        1         1            0  "
      ]
     },
     "execution_count": 18,
     "metadata": {},
     "output_type": "execute_result"
    }
   ],
   "source": [
    "data.head()"
   ]
  },
  {
   "cell_type": "code",
   "execution_count": 19,
   "metadata": {},
   "outputs": [],
   "source": [
    "class DataPreprocessing:\n",
    "    def __init__(self,data):\n",
    "        \n",
    "        self.data = data\n",
    "        self.cols_to_be_dropped = ['name','club_id','age_cat','nationality']\n",
    "        self.cols_to_be_encoded = ['club','position','position_cat','region']\n",
    "        \n",
    "    def addPosCat(self,inputCat):\n",
    "\n",
    "        if inputCat == 1:\n",
    "            return('Attackers')\n",
    "        elif inputCat == 2:\n",
    "            return('Midfielders')\n",
    "        elif inputCat == 3:\n",
    "            return('Defenders')\n",
    "        else:\n",
    "            return('Goalkeeper')\n",
    "        \n",
    "    def addRegion(self, inpregion):\n",
    "    \n",
    "        if inpregion == 1:\n",
    "            return('England')\n",
    "        elif inpregion == 2:\n",
    "            return('EU')\n",
    "        elif inpregion == 3:\n",
    "            return('Americans')\n",
    "        else:\n",
    "            return('Rest of World')\n",
    "        \n",
    "    def columnTypeConversion(self):\n",
    "        \n",
    "        # Converting fpl selection into numeric variable \n",
    "        self.data['fpl_sel'] = self.data['fpl_sel'].map(lambda x: str(x)[:-1]).astype('float')\n",
    "        \n",
    "    def logTransformation(self):\n",
    "        \n",
    "        # log transformation on page views variable as it has a high skew\n",
    "        self.data['page_views'] = self.data['page_views'].apply(np.log)\n",
    "        \n",
    "    # Encoding the categorical variables using pandas dummies \n",
    "    def dataEncoding(self):\n",
    "\n",
    "        self.data = pd.get_dummies(self.data, columns = self.cols_to_be_encoded, drop_first = True)\n",
    "        \n",
    "    def getProcessedData(self):\n",
    "        self.data = self.data.drop(self.cols_to_be_dropped, inplace = False, axis = 1)\n",
    "        self.data['position_cat'] = self.data['position_cat'].apply(self.addPosCat)\n",
    "        self.data['region'] = self.data['region'].apply(self.addRegion)\n",
    "        self.columnTypeConversion()\n",
    "        self.dataEncoding()\n",
    "        self.logTransformation()\n",
    "        return self.data"
   ]
  },
  {
   "cell_type": "code",
   "execution_count": 20,
   "metadata": {},
   "outputs": [],
   "source": [
    "data_obj = DataPreprocessing(data) \n",
    "encoded_data = data_obj.getProcessedData()"
   ]
  },
  {
   "cell_type": "code",
   "execution_count": 21,
   "metadata": {},
   "outputs": [
    {
     "data": {
      "text/html": [
       "<div>\n",
       "<style scoped>\n",
       "    .dataframe tbody tr th:only-of-type {\n",
       "        vertical-align: middle;\n",
       "    }\n",
       "\n",
       "    .dataframe tbody tr th {\n",
       "        vertical-align: top;\n",
       "    }\n",
       "\n",
       "    .dataframe thead th {\n",
       "        text-align: right;\n",
       "    }\n",
       "</style>\n",
       "<table border=\"1\" class=\"dataframe\">\n",
       "  <thead>\n",
       "    <tr style=\"text-align: right;\">\n",
       "      <th></th>\n",
       "      <th>age</th>\n",
       "      <th>market_value</th>\n",
       "      <th>page_views</th>\n",
       "      <th>fpl_value</th>\n",
       "      <th>fpl_sel</th>\n",
       "      <th>fpl_points</th>\n",
       "      <th>new_foreign</th>\n",
       "      <th>big_club</th>\n",
       "      <th>new_signing</th>\n",
       "      <th>club_Bournemouth</th>\n",
       "      <th>...</th>\n",
       "      <th>position_RB</th>\n",
       "      <th>position_RM</th>\n",
       "      <th>position_RW</th>\n",
       "      <th>position_SS</th>\n",
       "      <th>position_cat_Defenders</th>\n",
       "      <th>position_cat_Goalkeeper</th>\n",
       "      <th>position_cat_Midfielders</th>\n",
       "      <th>region_EU</th>\n",
       "      <th>region_England</th>\n",
       "      <th>region_Rest of World</th>\n",
       "    </tr>\n",
       "  </thead>\n",
       "  <tbody>\n",
       "    <tr>\n",
       "      <th>0</th>\n",
       "      <td>28</td>\n",
       "      <td>65.0</td>\n",
       "      <td>8.373092</td>\n",
       "      <td>12.0</td>\n",
       "      <td>17.1</td>\n",
       "      <td>264</td>\n",
       "      <td>0</td>\n",
       "      <td>1</td>\n",
       "      <td>0</td>\n",
       "      <td>0</td>\n",
       "      <td>...</td>\n",
       "      <td>0</td>\n",
       "      <td>0</td>\n",
       "      <td>0</td>\n",
       "      <td>0</td>\n",
       "      <td>0</td>\n",
       "      <td>0</td>\n",
       "      <td>0</td>\n",
       "      <td>0</td>\n",
       "      <td>0</td>\n",
       "      <td>0</td>\n",
       "    </tr>\n",
       "    <tr>\n",
       "      <th>1</th>\n",
       "      <td>28</td>\n",
       "      <td>50.0</td>\n",
       "      <td>8.388223</td>\n",
       "      <td>9.5</td>\n",
       "      <td>5.6</td>\n",
       "      <td>167</td>\n",
       "      <td>0</td>\n",
       "      <td>1</td>\n",
       "      <td>0</td>\n",
       "      <td>0</td>\n",
       "      <td>...</td>\n",
       "      <td>0</td>\n",
       "      <td>0</td>\n",
       "      <td>0</td>\n",
       "      <td>0</td>\n",
       "      <td>0</td>\n",
       "      <td>0</td>\n",
       "      <td>0</td>\n",
       "      <td>1</td>\n",
       "      <td>0</td>\n",
       "      <td>0</td>\n",
       "    </tr>\n",
       "    <tr>\n",
       "      <th>2</th>\n",
       "      <td>35</td>\n",
       "      <td>7.0</td>\n",
       "      <td>7.332369</td>\n",
       "      <td>5.5</td>\n",
       "      <td>5.9</td>\n",
       "      <td>134</td>\n",
       "      <td>0</td>\n",
       "      <td>1</td>\n",
       "      <td>0</td>\n",
       "      <td>0</td>\n",
       "      <td>...</td>\n",
       "      <td>0</td>\n",
       "      <td>0</td>\n",
       "      <td>0</td>\n",
       "      <td>0</td>\n",
       "      <td>0</td>\n",
       "      <td>1</td>\n",
       "      <td>0</td>\n",
       "      <td>1</td>\n",
       "      <td>0</td>\n",
       "      <td>0</td>\n",
       "    </tr>\n",
       "    <tr>\n",
       "      <th>3</th>\n",
       "      <td>28</td>\n",
       "      <td>20.0</td>\n",
       "      <td>7.780303</td>\n",
       "      <td>7.5</td>\n",
       "      <td>1.5</td>\n",
       "      <td>122</td>\n",
       "      <td>0</td>\n",
       "      <td>1</td>\n",
       "      <td>0</td>\n",
       "      <td>0</td>\n",
       "      <td>...</td>\n",
       "      <td>0</td>\n",
       "      <td>0</td>\n",
       "      <td>1</td>\n",
       "      <td>0</td>\n",
       "      <td>0</td>\n",
       "      <td>0</td>\n",
       "      <td>0</td>\n",
       "      <td>0</td>\n",
       "      <td>1</td>\n",
       "      <td>0</td>\n",
       "    </tr>\n",
       "    <tr>\n",
       "      <th>4</th>\n",
       "      <td>31</td>\n",
       "      <td>22.0</td>\n",
       "      <td>6.815640</td>\n",
       "      <td>6.0</td>\n",
       "      <td>0.7</td>\n",
       "      <td>121</td>\n",
       "      <td>0</td>\n",
       "      <td>1</td>\n",
       "      <td>0</td>\n",
       "      <td>0</td>\n",
       "      <td>...</td>\n",
       "      <td>0</td>\n",
       "      <td>0</td>\n",
       "      <td>0</td>\n",
       "      <td>0</td>\n",
       "      <td>1</td>\n",
       "      <td>0</td>\n",
       "      <td>0</td>\n",
       "      <td>1</td>\n",
       "      <td>0</td>\n",
       "      <td>0</td>\n",
       "    </tr>\n",
       "  </tbody>\n",
       "</table>\n",
       "<p>5 rows × 46 columns</p>\n",
       "</div>"
      ],
      "text/plain": [
       "   age  market_value  page_views  fpl_value  fpl_sel  fpl_points  new_foreign  \\\n",
       "0   28          65.0    8.373092       12.0     17.1         264            0   \n",
       "1   28          50.0    8.388223        9.5      5.6         167            0   \n",
       "2   35           7.0    7.332369        5.5      5.9         134            0   \n",
       "3   28          20.0    7.780303        7.5      1.5         122            0   \n",
       "4   31          22.0    6.815640        6.0      0.7         121            0   \n",
       "\n",
       "   big_club  new_signing  club_Bournemouth  ...  position_RB  position_RM  \\\n",
       "0         1            0                 0  ...            0            0   \n",
       "1         1            0                 0  ...            0            0   \n",
       "2         1            0                 0  ...            0            0   \n",
       "3         1            0                 0  ...            0            0   \n",
       "4         1            0                 0  ...            0            0   \n",
       "\n",
       "   position_RW  position_SS  position_cat_Defenders  position_cat_Goalkeeper  \\\n",
       "0            0            0                       0                        0   \n",
       "1            0            0                       0                        0   \n",
       "2            0            0                       0                        1   \n",
       "3            1            0                       0                        0   \n",
       "4            0            0                       1                        0   \n",
       "\n",
       "   position_cat_Midfielders  region_EU  region_England  region_Rest of World  \n",
       "0                         0          0               0                     0  \n",
       "1                         0          1               0                     0  \n",
       "2                         0          1               0                     0  \n",
       "3                         0          0               1                     0  \n",
       "4                         0          1               0                     0  \n",
       "\n",
       "[5 rows x 46 columns]"
      ]
     },
     "execution_count": 21,
     "metadata": {},
     "output_type": "execute_result"
    }
   ],
   "source": [
    "encoded_data.head()"
   ]
  },
  {
   "cell_type": "markdown",
   "metadata": {},
   "source": [
    "### Train Test Split"
   ]
  },
  {
   "cell_type": "code",
   "execution_count": 22,
   "metadata": {},
   "outputs": [],
   "source": [
    "output_var = 'market_value'\n",
    "X = encoded_data[encoded_data.columns[~encoded_data.columns.isin([output_var])]]\n",
    "y = encoded_data[[output_var]]\n",
    "x_train, x_test, y_train, y_test = train_test_split(X, y, test_size = 0.25)\n",
    "x_train = x_train.reset_index(drop = True)\n",
    "x_test = x_test.reset_index(drop = True)\n",
    "y_train = y_train.reset_index(drop = True)\n",
    "y_test = y_test.reset_index(drop = True)"
   ]
  },
  {
   "cell_type": "code",
   "execution_count": 23,
   "metadata": {},
   "outputs": [],
   "source": [
    "# performin min max scaling on input data\n",
    "scaler = MinMaxScaler()\n",
    "x_train = scaler.fit_transform(x_train)\n",
    "x_test = scaler.transform(x_test)"
   ]
  },
  {
   "cell_type": "markdown",
   "metadata": {},
   "source": [
    "### Model Building"
   ]
  },
  {
   "cell_type": "code",
   "execution_count": 24,
   "metadata": {},
   "outputs": [
    {
     "name": "stdout",
     "output_type": "stream",
     "text": [
      "Accuracy on training data - 0.8171974505847125\n",
      "Accuracy on test data - 0.7470230717320194\n",
      "\n",
      "Root Mean Square Error on training data - 5.346724229127878\n",
      "Root Mean Square Error on test data - 5.728102160586894\n"
     ]
    }
   ],
   "source": [
    "# Fitting a Ridge Regressor\n",
    "model = Ridge(alpha=0.1,max_iter=10000)\n",
    "model.fit(x_train, y_train)\n",
    "\n",
    "acc_train = model.score(x_train, y_train)\n",
    "acc_test = model.score(x_test, y_test)\n",
    "print(\"Accuracy on training data - \" + str(acc_train))\n",
    "print(\"Accuracy on test data - \" + str(acc_test))\n",
    "print()\n",
    "\n",
    "train_pred = model.predict(x_train) \n",
    "test_pred = model.predict(x_test)\n",
    "mse_train = mean_squared_error(y_train,train_pred)\n",
    "mse_test = mean_squared_error(y_test,test_pred)\n",
    "print(\"Root Mean Square Error on training data - \" + str(mse_train**(0.5)))\n",
    "print(\"Root Mean Square Error on test data - \" + str(mse_test**(0.5)))"
   ]
  },
  {
   "cell_type": "code",
   "execution_count": 25,
   "metadata": {},
   "outputs": [
    {
     "name": "stdout",
     "output_type": "stream",
     "text": [
      "Accuracy on training data - 0.9618659044095628\n",
      "Accuracy on test data - 0.6980385157826382\n"
     ]
    }
   ],
   "source": [
    "# fitting a support vector regressor\n",
    "regr = SVR(C = 10000.0, epsilon=0.001, kernel='poly', degree=2)\n",
    "regr.fit(x_train, y_train)\n",
    "\n",
    "training_predictions = regr.predict(x_train)\n",
    "test_predictions = regr.predict(x_test)\n",
    "acc_train_svm = r2_score(y_train,training_predictions) \n",
    "acc_test_svm = r2_score(y_test, test_predictions)\n",
    "print(\"Accuracy on training data - \" + str(acc_train_svm))\n",
    "print(\"Accuracy on test data - \" + str(acc_test_svm))"
   ]
  },
  {
   "cell_type": "markdown",
   "metadata": {},
   "source": [
    "### Hyperparameter Tuning"
   ]
  },
  {
   "cell_type": "code",
   "execution_count": 26,
   "metadata": {},
   "outputs": [],
   "source": [
    "# Run for different values of lambda \n",
    "lambda_min = -7\n",
    "lambda_max = 7\n",
    "\n",
    "num_lambdas = 15\n",
    "\n",
    "lambdas= np.linspace(lambda_min,lambda_max, num_lambdas)\n",
    "\n",
    "train_r_squared = np.zeros(num_lambdas)\n",
    "test_r_squared = np.zeros(num_lambdas)"
   ]
  },
  {
   "cell_type": "code",
   "execution_count": 27,
   "metadata": {},
   "outputs": [],
   "source": [
    "for index, i in enumerate(lambdas):    \n",
    "    # Fit ridge regression on train set\n",
    "    model = Ridge(alpha = 10**i, max_iter=10000)\n",
    "    model.fit(x_train, y_train)\n",
    "       \n",
    "    # Evaluate train & test performance\n",
    "    train_r_squared[index] = model.score(x_train, y_train)\n",
    "    test_r_squared[index] = model.score(x_test, y_test)\n",
    "    "
   ]
  },
  {
   "cell_type": "code",
   "execution_count": 28,
   "metadata": {},
   "outputs": [
    {
     "data": {
      "image/png": "[encoded data removed]",
      "text/plain": [
       "<Figure size 1080x504 with 1 Axes>"
      ]
     },
     "metadata": {
      "needs_background": "light"
     },
     "output_type": "display_data"
    }
   ],
   "source": [
    "fig, axes = plt.subplots(figsize=(15,7))\n",
    "\n",
    "axes.plot(train_r_squared, 'bo-', label=r'$R^2$ Training set', color=\"darkblue\", alpha=0.7, linewidth=3)\n",
    "axes.plot(test_r_squared, 'ro-', label=r'$R^2$ Test set', color=\"darkred\", alpha=0.7, linewidth=3)\n",
    "axes.set_xlabel('Lamda value')\n",
    "axes.set_ylabel(r'$R^2$')\n",
    "axes.set_title(r'Evaluate ridge regression $R^2$ with different lamdas')\n",
    "axes.set_xlim([0, 14])\n",
    "plt.legend(loc='best')\n",
    "plt.grid() \n",
    "plt.show()"
   ]
  },
  {
   "cell_type": "markdown",
   "metadata": {},
   "source": [
    "### Conclusion\n",
    "i) As the value of regularization constant increases variance of the model decreases upto a point after which the $R^2$ score on both training and test data starts dropping.<br>\n",
    "ii) The regularization constant value 1 seems to be a good value "
   ]
  },
  {
   "cell_type": "code",
   "execution_count": 29,
   "metadata": {},
   "outputs": [],
   "source": [
    "# Run for different values of C \n",
    "num_C = 9\n",
    "C_param = [0.0001,0.001,0.01,0.1,1,10,100,1000,10000]\n",
    "\n",
    "train_r_squared = np.zeros(num_C)\n",
    "test_r_squared = np.zeros(num_C)"
   ]
  },
  {
   "cell_type": "code",
   "execution_count": 30,
   "metadata": {},
   "outputs": [],
   "source": [
    "for index, i in enumerate(C_param):    \n",
    "    \n",
    "    # Fit support vector regression on train set\n",
    "    regr = SVR(C = i, epsilon=0.0001, kernel='poly', degree=2)\n",
    "    regr.fit(x_train, y_train)\n",
    "\n",
    "    # Evaluate train & test performance\n",
    "    training_predictions = regr.predict(x_train)\n",
    "    test_predictions = regr.predict(x_test)\n",
    "    train_r_squared[index] = r2_score(y_train, training_predictions)\n",
    "    test_r_squared[index] = r2_score(y_test, test_predictions)"
   ]
  },
  {
   "cell_type": "code",
   "execution_count": 31,
   "metadata": {},
   "outputs": [
    {
     "data": {
      "image/png": "[encoded data removed]",
      "text/plain": [
       "<Figure size 1080x504 with 1 Axes>"
      ]
     },
     "metadata": {
      "needs_background": "light"
     },
     "output_type": "display_data"
    }
   ],
   "source": [
    "# Plotting\n",
    "plt.figure(figsize=(15, 7))\n",
    "plt.plot(train_r_squared, 'bo-', label=r'$R^2$ Training set', color=\"darkblue\", alpha=0.7, linewidth=3)\n",
    "plt.plot(test_r_squared, 'ro-', label=r'$R^2$ Test set', color=\"darkred\", alpha=0.7, linewidth=3)\n",
    "plt.xlabel('C')\n",
    "plt.ylabel(r'$R^2$')\n",
    "plt.xlim(0,14)\n",
    "plt.title(r'Evaluate ridge regression $R^2$ with different C')\n",
    "plt.legend(loc='best')\n",
    "plt.grid()"
   ]
  },
  {
   "cell_type": "markdown",
   "metadata": {},
   "source": [
    "### Conclusion\n",
    "i) As the value of C increases the $R^2$ value increases for both training and test set but after a certain value the model starts overfitting.<br>\n",
    "ii) The best value of C seems to be 1000"
   ]
  },
  {
   "cell_type": "code",
   "execution_count": 32,
   "metadata": {},
   "outputs": [],
   "source": [
    "# Run for different values of C \n",
    "epsilon_nums = 8\n",
    "epsilon_vals = [0.00001,0.0001,0.001,0.01,0.1,1,10,100]\n",
    "\n",
    "train_r_squared = np.zeros(epsilon_nums)\n",
    "test_r_squared = np.zeros(epsilon_nums)"
   ]
  },
  {
   "cell_type": "code",
   "execution_count": 33,
   "metadata": {},
   "outputs": [],
   "source": [
    "for index, i in enumerate(epsilon_vals):    \n",
    "    \n",
    "    # Fit support vector regression on train set\n",
    "    regr = SVR(C = 10000, epsilon=i, kernel='poly', degree=2)\n",
    "    regr.fit(x_train, y_train)\n",
    "\n",
    "    # Evaluate train & test performance\n",
    "    training_predictions = regr.predict(x_train)\n",
    "    test_predictions = regr.predict(x_test)\n",
    "    train_r_squared[index] = r2_score(y_train, training_predictions)\n",
    "    test_r_squared[index] = r2_score(y_test, test_predictions)"
   ]
  },
  {
   "cell_type": "code",
   "execution_count": 34,
   "metadata": {},
   "outputs": [
    {
     "data": {
      "image/png": "[encoded data removed]",
      "text/plain": [
       "<Figure size 1080x504 with 1 Axes>"
      ]
     },
     "metadata": {
      "needs_background": "light"
     },
     "output_type": "display_data"
    }
   ],
   "source": [
    "# Plotting\n",
    "plt.figure(figsize=(15, 7))\n",
    "plt.plot(train_r_squared, 'bo-', label=r'$R^2$ Training set', color=\"darkblue\", alpha=0.7, linewidth=3)\n",
    "plt.plot(test_r_squared, 'ro-', label=r'$R^2$ Test set', color=\"darkred\", alpha=0.7, linewidth=3)\n",
    "plt.xlabel('epsilon')\n",
    "plt.ylabel(r'$R^2$')\n",
    "plt.xlim(0,8)\n",
    "plt.title(r'Evaluate ridge regression $R^2$ with different C')\n",
    "plt.legend(loc='best')\n",
    "plt.grid()"
   ]
  },
  {
   "cell_type": "markdown",
   "metadata": {},
   "source": [
    "### Conclusion\n",
    "i) As the value of epsilon increases the $R^2$ value remains close to one another for both training and test set but after a certain value the model starts underfitting.<br>\n",
    "ii) The best value of epsilon seems to be 0.0001"
   ]
  },
  {
   "cell_type": "markdown",
   "metadata": {},
   "source": [
    "### Finalized Models"
   ]
  },
  {
   "cell_type": "code",
   "execution_count": 35,
   "metadata": {},
   "outputs": [
    {
     "name": "stdout",
     "output_type": "stream",
     "text": [
      "R_2 score of training data - 0.8110360929183491\n",
      "R_2 score of test data - 0.7634074142173044\n"
     ]
    }
   ],
   "source": [
    "# Ridge Regression Model\n",
    "model = Ridge(alpha=1,max_iter=10000)\n",
    "model.fit(x_train, y_train)\n",
    "\n",
    "acc_train = model.score(x_train, y_train)\n",
    "acc_test = model.score(x_test, y_test)\n",
    "print(\"R_2 score of training data - \" + str(acc_train))\n",
    "print(\"R_2 score of test data - \" + str(acc_test))"
   ]
  },
  {
   "cell_type": "code",
   "execution_count": 36,
   "metadata": {},
   "outputs": [
    {
     "data": {
      "image/png": "[encoded data removed]",
      "text/plain": [
       "<Figure size 360x360 with 1 Axes>"
      ]
     },
     "metadata": {
      "needs_background": "light"
     },
     "output_type": "display_data"
    },
    {
     "name": "stdout",
     "output_type": "stream",
     "text": [
      "Root Mean Square Error:  5.539503778583439\n"
     ]
    }
   ],
   "source": [
    "pred = model.predict(x_test)\n",
    "residual = y_test - pred\n",
    "df = pd.DataFrame(np.concatenate([y_test,pred,residual],axis = 1),columns =['actual','predicted','residual'])\n",
    "sns.lmplot(x='actual',y='residual',data=df)\n",
    "plt.show()\n",
    "print(\"Root Mean Square Error: \",np.sqrt(1/df.shape[0]*(df.residual).dot(df.residual)))"
   ]
  },
  {
   "cell_type": "code",
   "execution_count": 37,
   "metadata": {},
   "outputs": [
    {
     "name": "stdout",
     "output_type": "stream",
     "text": [
      "R_2 score of training data - 0.9618566698231465\n",
      "R_2 score of test data - 0.6980016253921137\n"
     ]
    }
   ],
   "source": [
    "# support vector regression model\n",
    "regr = SVR(C = 10000.0, epsilon=0.0001, kernel='poly', degree=2)\n",
    "regr.fit(x_train, y_train)\n",
    "\n",
    "training_predictions = regr.predict(x_train)\n",
    "test_predictions = regr.predict(x_test)\n",
    "acc_train_svm = r2_score(y_train,training_predictions) \n",
    "acc_test_svm = r2_score(y_test, test_predictions)\n",
    "print(\"R_2 score of training data - \" + str(acc_train_svm))\n",
    "print(\"R_2 score of test data - \" + str(acc_test_svm))"
   ]
  },
  {
   "cell_type": "code",
   "execution_count": 38,
   "metadata": {},
   "outputs": [
    {
     "data": {
      "image/png": "[encoded data removed]",
      "text/plain": [
       "<Figure size 360x360 with 1 Axes>"
      ]
     },
     "metadata": {
      "needs_background": "light"
     },
     "output_type": "display_data"
    },
    {
     "name": "stdout",
     "output_type": "stream",
     "text": [
      "Root Mean Square Error:  6.2585337751423396\n"
     ]
    }
   ],
   "source": [
    "pred = regr.predict(x_test)\n",
    "pred = pred.reshape(pred.shape[0],1)\n",
    "residual = y_test - pred\n",
    "df = pd.DataFrame(np.concatenate([y_test,pred,residual],axis = 1),columns =['actual','predicted','residual'])\n",
    "sns.lmplot(x='actual',y='residual',data=df)\n",
    "plt.show()\n",
    "print(\"Root Mean Square Error: \",np.sqrt(1/df.shape[0]*(df.residual).dot(df.residual)))"
   ]
  },
  {
   "cell_type": "code",
   "execution_count": 39,
   "metadata": {},
   "outputs": [
    {
     "name": "stdout",
     "output_type": "stream",
     "text": [
      "R_2 score of training data - 0.6228983531309685\n",
      "R_2 score of test data - 0.5857344441081738\n"
     ]
    }
   ],
   "source": [
    "neigh = KNeighborsRegressor(n_neighbors=10)\n",
    "neigh.fit(x_train, y_train)\n",
    "\n",
    "print(\"R_2 score of training data - \" + str(neigh.score(x_train,y_train)))\n",
    "print(\"R_2 score of test data - \" + str(neigh.score(x_test,y_test)))"
   ]
  },
  {
   "cell_type": "markdown",
   "metadata": {},
   "source": [
    "### Genetic Algorithm "
   ]
  },
  {
   "cell_type": "code",
   "execution_count": 94,
   "metadata": {},
   "outputs": [],
   "source": [
    "class GeneticAlgorithm :\n",
    "    \n",
    "    def __init__(self, num_chromosomes, num_genes):\n",
    "        self.num_chromosomes = num_chromosomes\n",
    "        self.num_genes = num_genes\n",
    "        self.population = np.random.uniform(low=-3.0, high=3.0, size=(self.num_chromosomes, self.num_genes))\n",
    "        \n",
    "    def crossOver(self, parent1_idx, parent2_idx):\n",
    "        Pc_threshold = 0.3\n",
    "        Pc = np.random.uniform(0,1)\n",
    "        \n",
    "        # If crossover probability is less than or equal to threshold then do crossover operation\n",
    "        if Pc <= Pc_threshold:\n",
    "            \n",
    "            # The point at which crossover takes place between two parents. Usually, it is at the center.\n",
    "            crossover_point = np.uint8(self.num_genes/2)\n",
    "            \n",
    "            # flipping the second halves of parent chromosomes\n",
    "            temp = self.population[parent1_idx, crossover_point:].copy()\n",
    "            self.population[parent1_idx, crossover_point:] = self.population[parent2_idx, crossover_point:]\n",
    "            self.population[parent2_idx, crossover_point:] = temp.copy()\n",
    "            \n",
    "            \n",
    "\n",
    "    \n",
    "    def select_mating_pool(self, fitness_val):\n",
    "    \n",
    "        # Selecting the best individuals in the current generation as parents \n",
    "        # for producing the offspring of the next generation.\n",
    "        \n",
    "        select_probs  = fitness_val + 1\n",
    "        select_probs = select_probs / select_probs.sum()\n",
    "        fitness_based_selected =  np.random.choice(fitness_val.squeeze(), size = fitness_val.shape[0], replace = False, p = select_probs.squeeze())\n",
    "        \n",
    "        for i in range(fitness_based_selected.shape[0]//2):\n",
    "            parent_fit_1 = fitness_based_selected[(i*2)]\n",
    "            parent_fit_2 = fitness_based_selected[(i*2) + 1]\n",
    "            parent1_idx = np.where(fitness_val == parent_fit_1)[0][0]\n",
    "            parent2_idx = np.where(fitness_val == parent_fit_2)[0][0]\n",
    "            \n",
    "            # Doing Cross over operation\n",
    "            self.crossOver(parent1_idx, parent2_idx)\n",
    "            \n",
    "            # Doing Mutation Operation\n",
    "            self.mutation(parent1_idx, parent2_idx)\n",
    "            \n",
    "    \n",
    "    # Mutation changes a single gene in each offspring randomly.\n",
    "    def mutation(self, parent1_idx, parent2_idx):\n",
    "        Mc_threshold = 0.08\n",
    "        Mc = np.random.uniform(0,1)\n",
    "        \n",
    "        # If mutation probability is less than or equal to threshold then do mutation operation\n",
    "        if Mc <= Mc_threshold:\n",
    "            \n",
    "            # The random value to be added to the gene.\n",
    "            random_value = np.random.uniform(-1.0, 1.0, 1)\n",
    "            \n",
    "            # the random gene whose value is to be changed\n",
    "            gene_idx = np.random.randint(1,self.num_genes + 1, 1)\n",
    "            self.population[parent1_idx, gene_idx] = self.population[parent1_idx, gene_idx] + random_value\n",
    "            self.population[parent2_idx, gene_idx] = self.population[parent2_idx, gene_idx] + random_value\n",
    "            \n",
    "            \n",
    "        \n",
    "    def fitnessEvaluation(self, x_train, y_train):\n",
    "        fitness = np.zeros((self.population.shape[0],1))\n",
    "        for index, item in enumerate(self.population):\n",
    "            kfold = KFold(n_splits=5, random_state=2)\n",
    "            neigh = KNeighborsRegressor(n_neighbors=15,metric = 'wminkowski', metric_params = {'w':item})\n",
    "            fitness[index] = cross_val_score(neigh, x_train, y_train, cv=kfold, scoring=\"r2\").mean()\n",
    "        return fitness\n",
    "        \n",
    "    def generation(self, x_train, y_train):\n",
    "        num_generations = 10\n",
    "        for generation in range(num_generations):\n",
    "            # Measuring the fitness of each chromosome in the population\n",
    "            fitness_val = self.fitnessEvaluation(x_train, y_train)\n",
    "            # Selecting the best parents in the population for mating.\n",
    "            self.select_mating_pool(fitness_val)\n",
    "            \n",
    "        # returning the most fit chromosome and its fitness from the final population\n",
    "        return self.population[np.argmax(fitness_val)], np.max(fitness_val)"
   ]
  },
  {
   "cell_type": "code",
   "execution_count": 101,
   "metadata": {},
   "outputs": [
    {
     "name": "stdout",
     "output_type": "stream",
     "text": [
      "The fitness value of fittest chromosome in the final population is 0.5506875899111945\n"
     ]
    }
   ],
   "source": [
    "obj = GeneticAlgorithm(20,45)\n",
    "wts, fitness = obj.generation(x_train, y_train)\n",
    "print(\"The fitness value of fittest chromosome in the final population is \"+ str(fitness))"
   ]
  },
  {
   "cell_type": "code",
   "execution_count": 102,
   "metadata": {},
   "outputs": [
    {
     "name": "stdout",
     "output_type": "stream",
     "text": [
      "R_2 score of training data - 0.6036502448552139\n",
      "R_2 score of test data - 0.6252018497920893\n",
      "Root Mean Square Error on training data - 7.872922164853951\n",
      "Root Mean Square Error on test data - 6.972186842577879\n"
     ]
    }
   ],
   "source": [
    "# Using the weights learnt from the Genetic Algorithm in KNN regressor model to improve on its accuracy\n",
    "neigh = KNeighborsRegressor(n_neighbors=15,metric = 'wminkowski', metric_params = {'w':wts})\n",
    "neigh.fit(x_train, y_train)\n",
    "\n",
    "print(\"R_2 score of training data - \" + str(neigh.score(x_train,y_train)))\n",
    "print(\"R_2 score of test data - \" + str(neigh.score(x_test,y_test)))\n",
    "\n",
    "train_pred = neigh.predict(x_train) \n",
    "test_pred = neigh.predict(x_test)\n",
    "mse_train = mean_squared_error(y_train,train_pred)\n",
    "mse_test = mean_squared_error(y_test,test_pred)\n",
    "print(\"Root Mean Square Error on training data - \" + str(mse_train**(0.5)))\n",
    "print(\"Root Mean Square Error on test data - \" + str(mse_test**(0.5)))"
   ]
  },
  {
   "cell_type": "code",
   "execution_count": null,
   "metadata": {},
   "outputs": [],
   "source": []
  }
 ],
 "metadata": {
  "kernelspec": {
   "display_name": "Python 3",
   "language": "python",
   "name": "python3"
  },
  "language_info": {
   "codemirror_mode": {
    "name": "ipython",
    "version": 3
   },
   "file_extension": ".py",
   "mimetype": "text/x-python",
   "name": "python",
   "nbconvert_exporter": "python",
   "pygments_lexer": "ipython3",
   "version": "3.7.3"
  }
 },
 "nbformat": 4,
 "nbformat_minor": 2
}
