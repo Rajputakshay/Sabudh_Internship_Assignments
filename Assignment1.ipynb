{
 "cells": [
  {
   "cell_type": "code",
   "execution_count": 4,
   "metadata": {},
   "outputs": [],
   "source": [
    "import numpy as np\n",
    "import matplotlib.pyplot as plt"
   ]
  },
  {
   "cell_type": "markdown",
   "metadata": {},
   "source": [
    "# Generating Dataset\n",
    "\n",
    "Parameters\n",
    "* sigma : The spread of noise in the output variable\n",
    "* n : the size of the data set\n",
    "* m : the number of independent variables\n",
    "\n",
    "Returns\n",
    "\n",
    "* Beta: Randomly generated weight/parameter vector of shape (m+1, 1)\n",
    "*  X: Randomly generated independent data of shape (n, m+1)\n",
    "* Y: Calculated dependent variable using Beta and X according to the following formula:\n",
    "        Y = Beta * X + e\n",
    "Here e is the normal distribution with mean = 0 and std. dev = sigma\n"
   ]
  },
  {
   "cell_type": "code",
   "execution_count": 5,
   "metadata": {},
   "outputs": [],
   "source": [
    "def generate_dataset(m,n, sigma):\n",
    "    Beta = np.random.rand(m + 1,1) \n",
    "    X = np.random.randn(n,m+1)\n",
    "    X[:,0] = 1\n",
    "    e = np.random.normal(0.0,sigma, (n,1))\n",
    "    Y = np.matmul(X, Beta) + e\n",
    "    return Beta, X, Y"
   ]
  },
  {
   "cell_type": "markdown",
   "metadata": {},
   "source": [
    "# Linear Regression Implementation \n",
    "\n",
    "### MSE_cost\n",
    "Mean squared Error cost function. Used to guide gradient descent in appropriate direction and converge\n",
    "\n",
    "### MSE_gradient\n",
    "Derivative of MSE cost function. Gradient is used to update the parameter values\n",
    "\n"
   ]
  },
  {
   "cell_type": "code",
   "execution_count": 24,
   "metadata": {},
   "outputs": [],
   "source": [
    "def MSE_cost(Y_hat, Y, n):\n",
    "    cost = np.matmul((Y_hat - Y).T, Y_hat - Y)/(2*n)\n",
    "    return np.squeeze(cost)\n",
    "\n",
    "def MSE_gradient(X, Y, Y_hat, n):\n",
    "    dbeta = np.matmul(X.T,(Y_hat - Y))/n\n",
    "    return dbeta\n",
    "\n",
    "def LinearRegression(X,Y,epochs,threshold):\n",
    "    learning_rate = 0.01\n",
    "    n = X.shape[0]\n",
    "    m = X.shape[1]\n",
    "    beta = np.random.rand(m,1) * 0.01\n",
    "    prev_cost = float('inf')\n",
    "    for epoch in range(epochs):\n",
    "        Y_hat = np.matmul(X,beta) \n",
    "        curr_cost = MSE_cost(Y_hat, Y, n)\n",
    "        if abs(prev_cost - curr_cost) <= threshold:\n",
    "            break\n",
    "        prev_cost = curr_cost\n",
    "        dbeta = MSE_gradient(X, Y, Y_hat, n)\n",
    "        beta = beta - (learning_rate * dbeta)\n",
    "    return curr_cost, beta, cost_list\n"
   ]
  },
  {
   "cell_type": "code",
   "execution_count": 25,
   "metadata": {},
   "outputs": [],
   "source": [
    "beta, X, Y = generate_dataset(100,1000,1.8)\n",
    "cost, w, cost_list = LinearRegression(X, Y ,10000,0.0001)"
   ]
  },
  {
   "cell_type": "markdown",
   "metadata": {},
   "source": [
    "# Cosine Similarity\n",
    "\n",
    "It is the measure of how similar the learnt parameters and actual parameters are.\n",
    "\n",
    "A value closer to 1 indicates two vectors are more similar"
   ]
  },
  {
   "cell_type": "code",
   "execution_count": 1,
   "metadata": {},
   "outputs": [],
   "source": [
    "def cosine_similarity(actual, learnt):\n",
    "    abs_actual = np.linalg.norm(actual)\n",
    "    abs_learnt = np.linalg.norm(learnt)\n",
    "    \n",
    "    cos = np.matmul(actual.T, learnt) / (abs_actual * abs_learnt)\n",
    "    return cos.squeeze()"
   ]
  },
  {
   "cell_type": "markdown",
   "metadata": {},
   "source": [
    "Variation of learning with the distribution of data\n",
    "\n",
    "We check how the learning is affected if std. dev. of unexplained variation is increased or decreased.\n",
    "\n",
    "We check for sigma values: [0, 10, 20, 30, 40, 50, 60, 70, 80, 90]"
   ]
  },
  {
   "cell_type": "code",
   "execution_count": 81,
   "metadata": {},
   "outputs": [],
   "source": [
    "sigma_list = [i for i in range(0, 100, 10)]\n",
    "cost_list = []\n",
    "similarity_list = []\n",
    "\n",
    "m = 100\n",
    "n = 1000\n",
    "epochs = 10000\n",
    "threshold = 0.001\n",
    "\n",
    "for sigma in sigma_list:\n",
    "    actual_beta, X, Y = generate_dataset(m, n, sigma)\n",
    "    final_cost, learnt_beta = LinearRegression(X, Y, epochs, threshold)\n",
    "    cost_list.append(final_cost)\n",
    "    similarity_list.append(cosine_similarity(actual_beta, learnt_beta))"
   ]
  },
  {
   "cell_type": "markdown",
   "metadata": {},
   "source": [
    "# Plotting variation with Std. Deviation"
   ]
  },
  {
   "cell_type": "code",
   "execution_count": 82,
   "metadata": {},
   "outputs": [
    {
     "data": {
      "image/png": "[encoded data removed]",
      "text/plain": [
       "<Figure size 1080x360 with 2 Axes>"
      ]
     },
     "metadata": {
      "needs_background": "light"
     },
     "output_type": "display_data"
    }
   ],
   "source": [
    "fig = plt.figure(figsize=(15,5))\n",
    "\n",
    "ax1 = fig.add_subplot(1,2,1)\n",
    "ax1.plot(sigma_list, similarity_list, 'r')\n",
    "ax1.set(xlabel='Sigma', ylabel='Similarity')\n",
    "\n",
    "ax2 = fig.add_subplot(1,2,2)\n",
    "ax2.plot(sigma_list, cost_list, 'b')\n",
    "ax2.set(xlabel='Sigma', ylabel='Cost')\n",
    "\n",
    "plt.show()"
   ]
  },
  {
   "cell_type": "markdown",
   "metadata": {},
   "source": [
    "# Conclusion\n",
    "\n",
    "> We can see as the std. dev increases, The similarity of learnt and actual parameters approach towards zero: Meaning that the model is getting worse. This is evident from the increasing cost of model with increase in Sigma"
   ]
  },
  {
   "cell_type": "code",
   "execution_count": null,
   "metadata": {},
   "outputs": [],
   "source": []
  }
 ],
 "metadata": {
  "kernelspec": {
   "display_name": "Python 3",
   "language": "python",
   "name": "python3"
  },
  "language_info": {
   "codemirror_mode": {
    "name": "ipython",
    "version": 3
   },
   "file_extension": ".py",
   "mimetype": "text/x-python",
   "name": "python",
   "nbconvert_exporter": "python",
   "pygments_lexer": "ipython3",
   "version": "3.7.3"
  }
 },
 "nbformat": 4,
 "nbformat_minor": 2
}
